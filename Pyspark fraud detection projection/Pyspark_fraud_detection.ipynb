{
  "cells": [
    {
      "cell_type": "markdown",
      "metadata": {
        "id": "MFFqLbpq5IUM"
      },
      "source": [
        "## Fraud detection project using PySpark and Streamlit"
      ]
    },
    {
      "cell_type": "code",
      "execution_count": 1,
      "metadata": {
        "id": "nvMFCRvP5GC9"
      },
      "outputs": [],
      "source": [
        "from pyspark.sql.functions import col\n",
        "from pyspark.ml.feature import VectorAssembler, StandardScaler\n",
        "from pyspark.ml.classification import LogisticRegression\n",
        "from pyspark.ml.evaluation import BinaryClassificationEvaluator"
      ]
    },
    {
      "cell_type": "code",
      "execution_count": 2,
      "metadata": {
        "colab": {
          "base_uri": "https://localhost:8080/",
          "height": 219
        },
        "id": "PaF5u9lD5ORo",
        "outputId": "cdd188ff-692c-4236-8917-47871933e9a8"
      },
      "outputs": [
        {
          "output_type": "execute_result",
          "data": {
            "text/plain": [
              "<pyspark.sql.session.SparkSession at 0x7d11be9b8d60>"
            ],
            "text/html": [
              "\n",
              "            <div>\n",
              "                <p><b>SparkSession - in-memory</b></p>\n",
              "                \n",
              "        <div>\n",
              "            <p><b>SparkContext</b></p>\n",
              "\n",
              "            <p><a href=\"http://e04ba7cf3155:4040\">Spark UI</a></p>\n",
              "\n",
              "            <dl>\n",
              "              <dt>Version</dt>\n",
              "                <dd><code>v3.5.3</code></dd>\n",
              "              <dt>Master</dt>\n",
              "                <dd><code>local[*]</code></dd>\n",
              "              <dt>AppName</dt>\n",
              "                <dd><code>Streaming FraudDetection Data</code></dd>\n",
              "            </dl>\n",
              "        </div>\n",
              "        \n",
              "            </div>\n",
              "        "
            ]
          },
          "metadata": {},
          "execution_count": 2
        }
      ],
      "source": [
        "# Create the Spark Session\n",
        "from pyspark.sql import SparkSession\n",
        "spark = (\n",
        "    SparkSession\n",
        "    .builder\n",
        "    .appName(\"Streaming FraudDetection Data\")\n",
        "    .config(\"spark.streaming.stopGracefullyOnShutdown\", True)\n",
        "    .master(\"local[*]\")\n",
        "    .getOrCreate()\n",
        ")\n",
        "\n",
        "spark"
      ]
    },
    {
      "cell_type": "code",
      "execution_count": 3,
      "metadata": {
        "colab": {
          "base_uri": "https://localhost:8080/"
        },
        "id": "Zq_voz1r5Rmu",
        "outputId": "8da03400-ab14-4c7e-a9d6-b9db07b95bd2"
      },
      "outputs": [
        {
          "output_type": "stream",
          "name": "stdout",
          "text": [
            "root\n",
            " |-- Time: string (nullable = true)\n",
            " |-- V1: string (nullable = true)\n",
            " |-- V2: string (nullable = true)\n",
            " |-- V3: string (nullable = true)\n",
            " |-- V4: string (nullable = true)\n",
            " |-- V5: string (nullable = true)\n",
            " |-- V6: string (nullable = true)\n",
            " |-- V7: string (nullable = true)\n",
            " |-- V8: string (nullable = true)\n",
            " |-- V9: string (nullable = true)\n",
            " |-- V10: string (nullable = true)\n",
            " |-- V11: string (nullable = true)\n",
            " |-- V12: string (nullable = true)\n",
            " |-- V13: string (nullable = true)\n",
            " |-- V14: string (nullable = true)\n",
            " |-- V15: string (nullable = true)\n",
            " |-- V16: string (nullable = true)\n",
            " |-- V17: string (nullable = true)\n",
            " |-- V18: string (nullable = true)\n",
            " |-- V19: string (nullable = true)\n",
            " |-- V20: string (nullable = true)\n",
            " |-- V21: string (nullable = true)\n",
            " |-- V22: string (nullable = true)\n",
            " |-- V23: string (nullable = true)\n",
            " |-- V24: string (nullable = true)\n",
            " |-- V25: string (nullable = true)\n",
            " |-- V26: string (nullable = true)\n",
            " |-- V27: string (nullable = true)\n",
            " |-- V28: string (nullable = true)\n",
            " |-- Amount: string (nullable = true)\n",
            " |-- Class: string (nullable = true)\n",
            "\n"
          ]
        }
      ],
      "source": [
        "# To allow automatic schemaInference while reading\n",
        "spark.conf.set(\"spark.sql.streaming.schemaInference\", True)\n",
        "\n",
        "# Create the streaming_df to read from input directory\n",
        "df = (\n",
        "    spark\n",
        "    .readStream\n",
        "    .option(\"header\", \"true\")\n",
        "    .option(\"cleanSource\", \"archive\")\n",
        "    .option(\"sourceArchiveDir\", \"fraud_detect_archive_dir\")\n",
        "    .option(\"maxFilesPerTrigger\", 1)\n",
        "    .format(\"csv\")\n",
        "    .load(\"/content/\")\n",
        ")\n",
        "\n",
        "# Show schema and sample data\n",
        "df.printSchema()\n",
        "# df.show(5)"
      ]
    },
    {
      "cell_type": "code",
      "execution_count": 4,
      "metadata": {
        "id": "ImIQmuaH99b1"
      },
      "outputs": [],
      "source": [
        "from pyspark.sql.types import StructType, StructField, StringType, DoubleType, IntegerType\n",
        "\n",
        "# Define the schema\n",
        "schema = StructType([\n",
        "    StructField(\"Time\", DoubleType(), True),\n",
        "    StructField(\"V1\", DoubleType(), True),\n",
        "    StructField(\"V2\", DoubleType(), True),\n",
        "    StructField(\"V3\", DoubleType(), True),\n",
        "    StructField(\"V4\", DoubleType(), True),\n",
        "    StructField(\"V5\", DoubleType(), True),\n",
        "    StructField(\"V6\", DoubleType(), True),\n",
        "    StructField(\"V7\", DoubleType(), True),\n",
        "    StructField(\"V8\", DoubleType(), True),\n",
        "    StructField(\"V9\", DoubleType(), True),\n",
        "    StructField(\"V10\", DoubleType(), True),\n",
        "    StructField(\"V11\", DoubleType(), True),\n",
        "    StructField(\"V12\", DoubleType(), True),\n",
        "    StructField(\"V13\", DoubleType(), True),\n",
        "    StructField(\"V14\", DoubleType(), True),\n",
        "    StructField(\"V15\", DoubleType(), True),\n",
        "    StructField(\"V16\", DoubleType(), True),\n",
        "    StructField(\"V17\", DoubleType(), True),\n",
        "    StructField(\"V18\", DoubleType(), True),\n",
        "    StructField(\"V19\", DoubleType(), True),\n",
        "    StructField(\"V20\", DoubleType(), True),\n",
        "    StructField(\"V21\", DoubleType(), True),\n",
        "    StructField(\"V22\", DoubleType(), True),\n",
        "    StructField(\"V23\", DoubleType(), True),\n",
        "    StructField(\"V24\", DoubleType(), True),\n",
        "    StructField(\"V25\", DoubleType(), True),\n",
        "    StructField(\"V26\", DoubleType(), True),\n",
        "    StructField(\"V27\", DoubleType(), True),\n",
        "    StructField(\"V28\", DoubleType(), True),\n",
        "    StructField(\"Amount\", DoubleType(), True),\n",
        "    StructField(\"Class\", IntegerType(), True)\n",
        "])\n"
      ]
    },
    {
      "cell_type": "code",
      "execution_count": 5,
      "metadata": {
        "colab": {
          "base_uri": "https://localhost:8080/"
        },
        "id": "OzcoqHhs-C8P",
        "outputId": "6a28c690-b752-4ab9-b3c7-75323c58bff2"
      },
      "outputs": [
        {
          "output_type": "stream",
          "name": "stdout",
          "text": [
            "root\n",
            " |-- Time: double (nullable = true)\n",
            " |-- V1: double (nullable = true)\n",
            " |-- V2: double (nullable = true)\n",
            " |-- V3: double (nullable = true)\n",
            " |-- V4: double (nullable = true)\n",
            " |-- V5: double (nullable = true)\n",
            " |-- V6: double (nullable = true)\n",
            " |-- V7: double (nullable = true)\n",
            " |-- V8: double (nullable = true)\n",
            " |-- V9: double (nullable = true)\n",
            " |-- V10: double (nullable = true)\n",
            " |-- V11: double (nullable = true)\n",
            " |-- V12: double (nullable = true)\n",
            " |-- V13: double (nullable = true)\n",
            " |-- V14: double (nullable = true)\n",
            " |-- V15: double (nullable = true)\n",
            " |-- V16: double (nullable = true)\n",
            " |-- V17: double (nullable = true)\n",
            " |-- V18: double (nullable = true)\n",
            " |-- V19: double (nullable = true)\n",
            " |-- V20: double (nullable = true)\n",
            " |-- V21: double (nullable = true)\n",
            " |-- V22: double (nullable = true)\n",
            " |-- V23: double (nullable = true)\n",
            " |-- V24: double (nullable = true)\n",
            " |-- V25: double (nullable = true)\n",
            " |-- V26: double (nullable = true)\n",
            " |-- V27: double (nullable = true)\n",
            " |-- V28: double (nullable = true)\n",
            " |-- Amount: double (nullable = true)\n",
            " |-- Class: integer (nullable = true)\n",
            "\n"
          ]
        }
      ],
      "source": [
        "# Read the CSV file with the schema\n",
        "df = spark.read.csv(\"/content/creditcard.csv\", schema=schema, header=True)\n",
        "\n",
        "# Verify schema\n",
        "df.printSchema()"
      ]
    },
    {
      "cell_type": "code",
      "execution_count": 6,
      "metadata": {
        "id": "rg-AyGjv5jGc"
      },
      "outputs": [],
      "source": [
        "# Check for null values\n",
        "df.select([col(c).isNull().alias(c) for c in df.columns])\n",
        "\n",
        "# Convert labels to integers\n",
        "# df = df.withColumn(\"Class\", col(\"Class\").cast(\"integer\"))\n",
        "\n",
        "# Select features and target variable\n",
        "features = [col for col in df.columns if col not in [\"Class\", \"Time\"]]"
      ]
    },
    {
      "cell_type": "code",
      "execution_count": 7,
      "metadata": {
        "id": "ZUgUuGK56vUG"
      },
      "outputs": [],
      "source": [
        "# Vectorize features\n",
        "assembler = VectorAssembler(inputCols=features, outputCol=\"features\")\n",
        "df_vectorized = assembler.transform(df).select(\"features\", \"Class\")"
      ]
    },
    {
      "cell_type": "code",
      "source": [
        "df_vectorized.printSchema()"
      ],
      "metadata": {
        "colab": {
          "base_uri": "https://localhost:8080/"
        },
        "id": "mGf8xcCcSOpk",
        "outputId": "5e94c1c9-3a78-4c45-e5be-4ff2cdae2340"
      },
      "execution_count": 40,
      "outputs": [
        {
          "output_type": "stream",
          "name": "stdout",
          "text": [
            "root\n",
            " |-- features: vector (nullable = true)\n",
            " |-- Class: integer (nullable = true)\n",
            "\n"
          ]
        }
      ]
    },
    {
      "cell_type": "code",
      "execution_count": null,
      "metadata": {
        "id": "X3xm_1958mit"
      },
      "outputs": [],
      "source": [
        "# scaler = StandardScaler(inputCol=\"features\", outputCol=\"scaledFeatures\")\n",
        "# scaler_model = scaler.fit(df_vectorized)\n",
        "# df_scaled = scaler_model.transform(df_vectorized).select(\"scaledFeatures\", \"Class\")"
      ]
    },
    {
      "cell_type": "code",
      "execution_count": 8,
      "metadata": {
        "id": "HwxYwcZH-wlp"
      },
      "outputs": [],
      "source": [
        "train_data, test_data = df_vectorized.randomSplit([0.8, 0.2], seed=42)"
      ]
    },
    {
      "cell_type": "code",
      "source": [
        "train_data.printSchema()"
      ],
      "metadata": {
        "colab": {
          "base_uri": "https://localhost:8080/"
        },
        "id": "wyzI7axcT619",
        "outputId": "09246bf8-49e6-4d17-d876-09e6a1c0d571"
      },
      "execution_count": 42,
      "outputs": [
        {
          "output_type": "stream",
          "name": "stdout",
          "text": [
            "root\n",
            " |-- features: vector (nullable = true)\n",
            " |-- Class: integer (nullable = true)\n",
            "\n"
          ]
        }
      ]
    },
    {
      "cell_type": "code",
      "execution_count": 9,
      "metadata": {
        "id": "0ezdbmRyAmlM"
      },
      "outputs": [],
      "source": [
        "# Fill nulls or drop rows with nulls\n",
        "train_data = train_data.na.fill(0)  # Replace nulls with 0, or use a value appropriate for your data\n",
        "# OR\n",
        "train_data = train_data.na.drop()"
      ]
    },
    {
      "cell_type": "code",
      "execution_count": 10,
      "metadata": {
        "id": "eEI7tZVM_is7"
      },
      "outputs": [],
      "source": [
        "lr = LogisticRegression(featuresCol=\"features\", labelCol=\"Class\")\n",
        "\n",
        "# Remove missing values\n",
        "train_data = train_data.dropna()\n",
        "\n",
        "lr_model = lr.fit(train_data)"
      ]
    },
    {
      "cell_type": "code",
      "execution_count": 11,
      "metadata": {
        "colab": {
          "base_uri": "https://localhost:8080/"
        },
        "id": "jUdXGK0k_shr",
        "outputId": "7d7722bf-aa7b-4f1b-8fa1-08b6cf5f17ad"
      },
      "outputs": [
        {
          "output_type": "stream",
          "name": "stdout",
          "text": [
            "AUC: 0.9639094999994379\n"
          ]
        }
      ],
      "source": [
        "predictions = lr_model.transform(test_data)\n",
        "\n",
        "# Evaluate using BinaryClassificationEvaluator\n",
        "evaluator = BinaryClassificationEvaluator(labelCol=\"Class\", rawPredictionCol=\"rawPrediction\")\n",
        "auc = evaluator.evaluate(predictions)\n",
        "print(f\"AUC: {auc}\")"
      ]
    },
    {
      "cell_type": "code",
      "execution_count": 12,
      "metadata": {
        "id": "u5GT78knHxfk"
      },
      "outputs": [],
      "source": [
        "lr_model.save(\"/content/saved_model\")"
      ]
    },
    {
      "cell_type": "code",
      "execution_count": 13,
      "metadata": {
        "colab": {
          "base_uri": "https://localhost:8080/"
        },
        "id": "75KZketZI-MZ",
        "outputId": "c200e2e8-6673-4e4e-af12-193d10a5d81f"
      },
      "outputs": [
        {
          "output_type": "stream",
          "name": "stdout",
          "text": [
            "Collecting streamlit\n",
            "  Downloading streamlit-1.41.1-py2.py3-none-any.whl.metadata (8.5 kB)\n",
            "Requirement already satisfied: altair<6,>=4.0 in /usr/local/lib/python3.10/dist-packages (from streamlit) (5.5.0)\n",
            "Requirement already satisfied: blinker<2,>=1.0.0 in /usr/local/lib/python3.10/dist-packages (from streamlit) (1.9.0)\n",
            "Requirement already satisfied: cachetools<6,>=4.0 in /usr/local/lib/python3.10/dist-packages (from streamlit) (5.5.0)\n",
            "Requirement already satisfied: click<9,>=7.0 in /usr/local/lib/python3.10/dist-packages (from streamlit) (8.1.7)\n",
            "Requirement already satisfied: numpy<3,>=1.23 in /usr/local/lib/python3.10/dist-packages (from streamlit) (1.26.4)\n",
            "Requirement already satisfied: packaging<25,>=20 in /usr/local/lib/python3.10/dist-packages (from streamlit) (24.2)\n",
            "Requirement already satisfied: pandas<3,>=1.4.0 in /usr/local/lib/python3.10/dist-packages (from streamlit) (2.2.2)\n",
            "Requirement already satisfied: pillow<12,>=7.1.0 in /usr/local/lib/python3.10/dist-packages (from streamlit) (11.0.0)\n",
            "Requirement already satisfied: protobuf<6,>=3.20 in /usr/local/lib/python3.10/dist-packages (from streamlit) (4.25.5)\n",
            "Requirement already satisfied: pyarrow>=7.0 in /usr/local/lib/python3.10/dist-packages (from streamlit) (17.0.0)\n",
            "Requirement already satisfied: requests<3,>=2.27 in /usr/local/lib/python3.10/dist-packages (from streamlit) (2.32.3)\n",
            "Requirement already satisfied: rich<14,>=10.14.0 in /usr/local/lib/python3.10/dist-packages (from streamlit) (13.9.4)\n",
            "Requirement already satisfied: tenacity<10,>=8.1.0 in /usr/local/lib/python3.10/dist-packages (from streamlit) (9.0.0)\n",
            "Requirement already satisfied: toml<2,>=0.10.1 in /usr/local/lib/python3.10/dist-packages (from streamlit) (0.10.2)\n",
            "Requirement already satisfied: typing-extensions<5,>=4.3.0 in /usr/local/lib/python3.10/dist-packages (from streamlit) (4.12.2)\n",
            "Collecting watchdog<7,>=2.1.5 (from streamlit)\n",
            "  Downloading watchdog-6.0.0-py3-none-manylinux2014_x86_64.whl.metadata (44 kB)\n",
            "\u001b[2K     \u001b[90m━━━━━━━━━━━━━━━━━━━━━━━━━━━━━━━━━━━━━━━━\u001b[0m \u001b[32m44.3/44.3 kB\u001b[0m \u001b[31m1.7 MB/s\u001b[0m eta \u001b[36m0:00:00\u001b[0m\n",
            "\u001b[?25hRequirement already satisfied: gitpython!=3.1.19,<4,>=3.0.7 in /usr/local/lib/python3.10/dist-packages (from streamlit) (3.1.43)\n",
            "Collecting pydeck<1,>=0.8.0b4 (from streamlit)\n",
            "  Downloading pydeck-0.9.1-py2.py3-none-any.whl.metadata (4.1 kB)\n",
            "Requirement already satisfied: tornado<7,>=6.0.3 in /usr/local/lib/python3.10/dist-packages (from streamlit) (6.3.3)\n",
            "Requirement already satisfied: jinja2 in /usr/local/lib/python3.10/dist-packages (from altair<6,>=4.0->streamlit) (3.1.4)\n",
            "Requirement already satisfied: jsonschema>=3.0 in /usr/local/lib/python3.10/dist-packages (from altair<6,>=4.0->streamlit) (4.23.0)\n",
            "Requirement already satisfied: narwhals>=1.14.2 in /usr/local/lib/python3.10/dist-packages (from altair<6,>=4.0->streamlit) (1.18.4)\n",
            "Requirement already satisfied: gitdb<5,>=4.0.1 in /usr/local/lib/python3.10/dist-packages (from gitpython!=3.1.19,<4,>=3.0.7->streamlit) (4.0.11)\n",
            "Requirement already satisfied: python-dateutil>=2.8.2 in /usr/local/lib/python3.10/dist-packages (from pandas<3,>=1.4.0->streamlit) (2.8.2)\n",
            "Requirement already satisfied: pytz>=2020.1 in /usr/local/lib/python3.10/dist-packages (from pandas<3,>=1.4.0->streamlit) (2024.2)\n",
            "Requirement already satisfied: tzdata>=2022.7 in /usr/local/lib/python3.10/dist-packages (from pandas<3,>=1.4.0->streamlit) (2024.2)\n",
            "Requirement already satisfied: charset-normalizer<4,>=2 in /usr/local/lib/python3.10/dist-packages (from requests<3,>=2.27->streamlit) (3.4.0)\n",
            "Requirement already satisfied: idna<4,>=2.5 in /usr/local/lib/python3.10/dist-packages (from requests<3,>=2.27->streamlit) (3.10)\n",
            "Requirement already satisfied: urllib3<3,>=1.21.1 in /usr/local/lib/python3.10/dist-packages (from requests<3,>=2.27->streamlit) (2.2.3)\n",
            "Requirement already satisfied: certifi>=2017.4.17 in /usr/local/lib/python3.10/dist-packages (from requests<3,>=2.27->streamlit) (2024.12.14)\n",
            "Requirement already satisfied: markdown-it-py>=2.2.0 in /usr/local/lib/python3.10/dist-packages (from rich<14,>=10.14.0->streamlit) (3.0.0)\n",
            "Requirement already satisfied: pygments<3.0.0,>=2.13.0 in /usr/local/lib/python3.10/dist-packages (from rich<14,>=10.14.0->streamlit) (2.18.0)\n",
            "Requirement already satisfied: smmap<6,>=3.0.1 in /usr/local/lib/python3.10/dist-packages (from gitdb<5,>=4.0.1->gitpython!=3.1.19,<4,>=3.0.7->streamlit) (5.0.1)\n",
            "Requirement already satisfied: MarkupSafe>=2.0 in /usr/local/lib/python3.10/dist-packages (from jinja2->altair<6,>=4.0->streamlit) (3.0.2)\n",
            "Requirement already satisfied: attrs>=22.2.0 in /usr/local/lib/python3.10/dist-packages (from jsonschema>=3.0->altair<6,>=4.0->streamlit) (24.3.0)\n",
            "Requirement already satisfied: jsonschema-specifications>=2023.03.6 in /usr/local/lib/python3.10/dist-packages (from jsonschema>=3.0->altair<6,>=4.0->streamlit) (2024.10.1)\n",
            "Requirement already satisfied: referencing>=0.28.4 in /usr/local/lib/python3.10/dist-packages (from jsonschema>=3.0->altair<6,>=4.0->streamlit) (0.35.1)\n",
            "Requirement already satisfied: rpds-py>=0.7.1 in /usr/local/lib/python3.10/dist-packages (from jsonschema>=3.0->altair<6,>=4.0->streamlit) (0.22.3)\n",
            "Requirement already satisfied: mdurl~=0.1 in /usr/local/lib/python3.10/dist-packages (from markdown-it-py>=2.2.0->rich<14,>=10.14.0->streamlit) (0.1.2)\n",
            "Requirement already satisfied: six>=1.5 in /usr/local/lib/python3.10/dist-packages (from python-dateutil>=2.8.2->pandas<3,>=1.4.0->streamlit) (1.17.0)\n",
            "Downloading streamlit-1.41.1-py2.py3-none-any.whl (9.1 MB)\n",
            "\u001b[2K   \u001b[90m━━━━━━━━━━━━━━━━━━━━━━━━━━━━━━━━━━━━━━━━\u001b[0m \u001b[32m9.1/9.1 MB\u001b[0m \u001b[31m55.8 MB/s\u001b[0m eta \u001b[36m0:00:00\u001b[0m\n",
            "\u001b[?25hDownloading pydeck-0.9.1-py2.py3-none-any.whl (6.9 MB)\n",
            "\u001b[2K   \u001b[90m━━━━━━━━━━━━━━━━━━━━━━━━━━━━━━━━━━━━━━━━\u001b[0m \u001b[32m6.9/6.9 MB\u001b[0m \u001b[31m85.0 MB/s\u001b[0m eta \u001b[36m0:00:00\u001b[0m\n",
            "\u001b[?25hDownloading watchdog-6.0.0-py3-none-manylinux2014_x86_64.whl (79 kB)\n",
            "\u001b[2K   \u001b[90m━━━━━━━━━━━━━━━━━━━━━━━━━━━━━━━━━━━━━━━━\u001b[0m \u001b[32m79.1/79.1 kB\u001b[0m \u001b[31m5.2 MB/s\u001b[0m eta \u001b[36m0:00:00\u001b[0m\n",
            "\u001b[?25hInstalling collected packages: watchdog, pydeck, streamlit\n",
            "Successfully installed pydeck-0.9.1 streamlit-1.41.1 watchdog-6.0.0\n"
          ]
        }
      ],
      "source": [
        "!pip install streamlit"
      ]
    },
    {
      "cell_type": "code",
      "execution_count": null,
      "metadata": {
        "colab": {
          "base_uri": "https://localhost:8080/"
        },
        "id": "gjAgt575KFaB",
        "outputId": "7a308b69-cbee-4868-f5ee-8ef70e014716"
      },
      "outputs": [
        {
          "name": "stdout",
          "output_type": "stream",
          "text": [
            "\u001b[1G\u001b[0K⠙\u001b[1G\u001b[0K⠹\u001b[1G\u001b[0K⠸\u001b[1G\u001b[0K⠼\u001b[1G\u001b[0K⠴\u001b[1G\u001b[0K⠦\u001b[1G\u001b[0K⠧\u001b[1G\u001b[0K⠇\u001b[1G\u001b[0K⠏\u001b[1G\u001b[0K⠋\u001b[1G\u001b[0K⠙\u001b[1G\u001b[0K⠹\u001b[1G\u001b[0K⠸\u001b[1G\u001b[0K⠼\u001b[1G\u001b[0K⠴\u001b[1G\u001b[0K⠦\u001b[1G\u001b[0K⠧\u001b[1G\u001b[0K⠇\u001b[1G\u001b[0K⠏\u001b[1G\u001b[0K⠋\u001b[1G\u001b[0K⠙\u001b[1G\u001b[0K⠹\u001b[1G\u001b[0K\n",
            "added 22 packages in 3s\n",
            "\u001b[1G\u001b[0K⠹\u001b[1G\u001b[0K\n",
            "\u001b[1G\u001b[0K⠹\u001b[1G\u001b[0K3 packages are looking for funding\n",
            "\u001b[1G\u001b[0K⠹\u001b[1G\u001b[0K  run `npm fund` for details\n",
            "\u001b[1G\u001b[0K⠹\u001b[1G\u001b[0K"
          ]
        }
      ],
      "source": [
        "!npm install localtunnel"
      ]
    },
    {
      "cell_type": "code",
      "source": [
        "%%writefile app.py\n",
        "\n",
        "import streamlit as st\n",
        "from pyspark.ml.classification import LogisticRegressionModel\n",
        "from pyspark.sql import SparkSession\n",
        "from pyspark.ml.feature import VectorAssembler\n",
        "import pandas as pd\n",
        "\n",
        "# Initialize Spark session and load model\n",
        "spark = SparkSession.builder.appName(\"FraudDetectionApp\").getOrCreate()\n",
        "lr_model = LogisticRegressionModel.load(\"/content/saved_model\")\n",
        "\n",
        "# Streamlit UI\n",
        "st.title(\"Fraud Detection System\")\n",
        "st.write(\"Enter transaction details below:\")\n",
        "\n",
        "# Input features\n",
        "feature_columns = [\n",
        "    'V1', 'V2', 'V3', 'V4', 'V5', 'V6', 'V7', 'V8', 'V9', 'V10',\n",
        "    'V11', 'V12', 'V13', 'V14', 'V15', 'V16', 'V17', 'V18', 'V19',\n",
        "    'V20', 'V21', 'V22', 'V23', 'V24', 'V25', 'V26', 'V27', 'V28',\n",
        "    'Amount'\n",
        "]\n",
        "\n",
        "# Collect user input for all features\n",
        "input_data = {}\n",
        "for feature in feature_columns:\n",
        "    input_data[feature] = st.number_input(f\"Enter {feature}\", value=0.0)\n",
        "\n",
        "# Convert input to a Pandas DataFrame\n",
        "df = pd.DataFrame([input_data])\n",
        "\n",
        "# Predict button\n",
        "if st.button(\"Predict\"):\n",
        "    # Convert Pandas DataFrame to Spark DataFrame\n",
        "    spark_df = spark.createDataFrame(df)\n",
        "\n",
        "    # Vectorize features\n",
        "    assembler = VectorAssembler(inputCols=feature_columns, outputCol=\"features\")\n",
        "    df_vectorized = assembler.transform(spark_df).select(\"features\", \"Class\")\n",
        "\n",
        "    # Perform prediction\n",
        "    predictions = lr_model.transform(df_vectorized)\n",
        "\n",
        "    # Extract prediction result\n",
        "    prediction = predictions.select(\"prediction\").collect()[0][0]\n",
        "\n",
        "    # Display result\n",
        "    st.write(\"Fraudulent Transaction\" if prediction == 1 else \"Legitimate Transaction\")"
      ],
      "metadata": {
        "colab": {
          "base_uri": "https://localhost:8080/"
        },
        "id": "D6Lb8Tkiggg1",
        "outputId": "53a3636d-6328-498e-dfca-e68f2b2f6fcf"
      },
      "execution_count": 53,
      "outputs": [
        {
          "output_type": "stream",
          "name": "stdout",
          "text": [
            "Overwriting app.py\n"
          ]
        }
      ]
    },
    {
      "cell_type": "code",
      "execution_count": null,
      "metadata": {
        "id": "DReF_K0QMYX_"
      },
      "outputs": [],
      "source": [
        "!curl https://loca.lt/mytunnelpassword"
      ]
    },
    {
      "cell_type": "code",
      "source": [
        "!wget -q -O - ipv4.icanhazip.com"
      ],
      "metadata": {
        "id": "lm1P3qBj-6kL"
      },
      "execution_count": null,
      "outputs": []
    },
    {
      "cell_type": "code",
      "source": [
        "!streamlit run app.py & npx localtunnel --port 8501"
      ],
      "metadata": {
        "id": "LbxVlOZ0Bver"
      },
      "execution_count": null,
      "outputs": []
    }
  ],
  "metadata": {
    "colab": {
      "provenance": []
    },
    "kernelspec": {
      "display_name": "Python 3",
      "name": "python3"
    },
    "language_info": {
      "name": "python"
    }
  },
  "nbformat": 4,
  "nbformat_minor": 0
}